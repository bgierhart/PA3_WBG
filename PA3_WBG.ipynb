{
 "cells": [
  {
   "cell_type": "markdown",
   "id": "0462ad73-bf9c-4357-8fe7-b1131cd7d9d7",
   "metadata": {},
   "source": [
    "### PA3_WBG\n",
    "---\n",
    "**Author:** Ben Gierhart  \n",
    "**Version:** 1.0  \n",
    "**Semester:** Spring 2024 \n",
    "\n",
    "This *notebook* contains my solution(s) to **PA3_WBG**"
   ]
  },
  {
   "cell_type": "markdown",
   "id": "54d2efa6-d4cd-4ac8-bac8-54a2143bf9c5",
   "metadata": {},
   "source": [
    "### Problem 1 — Geometry Calculator"
   ]
  },
  {
   "cell_type": "code",
   "execution_count": 2,
   "id": "ac409fc3-e46e-4471-bd42-84376cdbc9e2",
   "metadata": {},
   "outputs": [
    {
     "name": "stdin",
     "output_type": "stream",
     "text": [
      "For which shape would you like to calculate area and perimeter? \"Q\" to quit. Options: S(quare), TRI(angle), C(ircle), R(ectangle), E(llipse), TRAP(ezoid) B\n"
     ]
    },
    {
     "name": "stderr",
     "output_type": "stream",
     "text": [
      "IOPub data rate exceeded.\n",
      "The Jupyter server will temporarily stop sending output\n",
      "to the client in order to avoid crashing it.\n",
      "To change this limit, set the config variable\n",
      "`--ServerApp.iopub_data_rate_limit`.\n",
      "\n",
      "Current values:\n",
      "ServerApp.iopub_data_rate_limit=1000000.0 (bytes/sec)\n",
      "ServerApp.rate_limit_window=3.0 (secs)\n",
      "\n",
      "IOPub data rate exceeded.\n",
      "The Jupyter server will temporarily stop sending output\n",
      "to the client in order to avoid crashing it.\n",
      "To change this limit, set the config variable\n",
      "`--ServerApp.iopub_data_rate_limit`.\n",
      "\n",
      "Current values:\n",
      "ServerApp.iopub_data_rate_limit=1000000.0 (bytes/sec)\n",
      "ServerApp.rate_limit_window=3.0 (secs)\n",
      "\n"
     ]
    },
    {
     "ename": "KeyboardInterrupt",
     "evalue": "",
     "output_type": "error",
     "traceback": [
      "\u001b[0;31m---------------------------------------------------------------------------\u001b[0m",
      "\u001b[0;31mKeyboardInterrupt\u001b[0m                         Traceback (most recent call last)",
      "Cell \u001b[0;32mIn[2], line 148\u001b[0m\n\u001b[1;32m    146\u001b[0m             Question1 \u001b[38;5;241m=\u001b[39m \u001b[38;5;124m\"\u001b[39m\u001b[38;5;124mQ\u001b[39m\u001b[38;5;124m\"\u001b[39m\n\u001b[1;32m    147\u001b[0m     \u001b[38;5;28;01melse\u001b[39;00m:\n\u001b[0;32m--> 148\u001b[0m         \u001b[38;5;28mprint\u001b[39m(\u001b[38;5;124m\"\u001b[39m\u001b[38;5;124mThat is not a valid option.\u001b[39m\u001b[38;5;124m\"\u001b[39m)\n\u001b[1;32m    149\u001b[0m \u001b[38;5;28;01mif\u001b[39;00m Question1 \u001b[38;5;241m==\u001b[39m \u001b[38;5;124m\"\u001b[39m\u001b[38;5;124mQ\u001b[39m\u001b[38;5;124m\"\u001b[39m:\n\u001b[1;32m    150\u001b[0m     \u001b[38;5;28mprint\u001b[39m(\u001b[38;5;124m\"\u001b[39m\u001b[38;5;124mDone!\u001b[39m\u001b[38;5;124m\"\u001b[39m)\n",
      "File \u001b[0;32m~/anaconda3/lib/python3.11/site-packages/ipykernel/iostream.py:638\u001b[0m, in \u001b[0;36mOutStream.write\u001b[0;34m(self, string)\u001b[0m\n\u001b[1;32m    636\u001b[0m \u001b[38;5;66;03m# only touch the buffer in the IO thread to avoid races\u001b[39;00m\n\u001b[1;32m    637\u001b[0m \u001b[38;5;28;01mwith\u001b[39;00m \u001b[38;5;28mself\u001b[39m\u001b[38;5;241m.\u001b[39m_buffer_lock:\n\u001b[0;32m--> 638\u001b[0m     \u001b[38;5;28mself\u001b[39m\u001b[38;5;241m.\u001b[39m_buffer\u001b[38;5;241m.\u001b[39mwrite(string)\n\u001b[1;32m    639\u001b[0m \u001b[38;5;28;01mif\u001b[39;00m is_child:\n\u001b[1;32m    640\u001b[0m     \u001b[38;5;66;03m# mp.Pool cannot be trusted to flush promptly (or ever),\u001b[39;00m\n\u001b[1;32m    641\u001b[0m     \u001b[38;5;66;03m# and this helps.\u001b[39;00m\n\u001b[1;32m    642\u001b[0m     \u001b[38;5;28;01mif\u001b[39;00m \u001b[38;5;28mself\u001b[39m\u001b[38;5;241m.\u001b[39m_subprocess_flush_pending:\n",
      "\u001b[0;31mKeyboardInterrupt\u001b[0m: "
     ]
    }
   ],
   "source": [
    "import math\n",
    "\n",
    "p = 0\n",
    "a = 0\n",
    "\n",
    "def p_SRTRAP(s1,s2,s3,s4):\n",
    "    perimeter = float(s1+s2+s3+s4)\n",
    "    return perimeter\n",
    "\n",
    "def p_TRI(s1, s2, s3):\n",
    "    perimeter = float(s1 + s2 + s3)\n",
    "    return perimeter\n",
    "\n",
    "def c_C(r):\n",
    "    circumference = float(2 * math.pi * r)\n",
    "    return circumference\n",
    "\n",
    "def c_E(a1, b):\n",
    "    circumference = float(math.pi*((3*(a1+b))-(((3*a1)+b)*(a1+(3*b)))**(1/2)))\n",
    "    return circumference\n",
    "\n",
    "def a_S(x):\n",
    "    area = float(x**2)\n",
    "    return area\n",
    "\n",
    "def a_TRI(b,h):\n",
    "    area = float((1/2)*b*h)\n",
    "    return area\n",
    "\n",
    "def a_C(r):\n",
    "    area = float(math.pi * (r**2))\n",
    "    return area\n",
    "\n",
    "def a_R(b,h):\n",
    "    area = float(b*h)\n",
    "    return area\n",
    "\n",
    "def a_E(a1,b):\n",
    "    area = float(math.pi*a1*b)\n",
    "    return area\n",
    "\n",
    "def a_TRAP(a1,b,h):\n",
    "    area = float(((a1+b)/2)*h)\n",
    "    return area\n",
    "\n",
    "Question1 = input('For which shape would you like to calculate area and perimeter? \"Q\" to quit. Options: S(quare), TRI(angle), C(ircle), R(ectangle), E(llipse), TRAP(ezoid)')\n",
    "while Question1 != \"Q\":\n",
    "    if Question1 == \"S\":\n",
    "        Question2 = input('What is the side length? \"Q\" to quit')\n",
    "        while Question2 != \"Q\":\n",
    "            s1 = float(Question2)\n",
    "            s2 = float(Question2)\n",
    "            s3 = float(Question2)\n",
    "            s4 = float(Question2)\n",
    "            p+=p_SRTRAP(s1, s2, s3, s4)\n",
    "            print(\"Perimeter: \"+str(p))\n",
    "            a+=a_S(s1*s2)\n",
    "            print(\"Area: \"+str(a))\n",
    "            Question2 = input('What is the side length? \"Q\" to quit')\n",
    "        if Question2 == \"Q\":\n",
    "            Question1 = \"Q\"\n",
    "    elif Question1 == \"TRI\":\n",
    "        Question3 = input('Is it a right Triangle? \"Y\" or \"N\". \"Q\" to quit')\n",
    "        if Question3 == \"Y\":\n",
    "            b = float(input(\"What is the length of the base?\"))\n",
    "            s1 = b\n",
    "            h = float(input(\"What is the height?\"))\n",
    "            s2 = float(input(\"What's the length of one of the other two sides?\"))\n",
    "            s3 = float(input(\"What's the length of the final side?\"))\n",
    "            p+=p_TRI(s1, s2, s3)\n",
    "            print(\"Perimeter: \"+str(p))\n",
    "            a+=a_TRI(b,h)\n",
    "            print(\"Area: \"+str(a))\n",
    "            Question3 = input('Is it a right Triangle? \"Y\" or \"N\". \"Q\" to quit') \n",
    "        elif Question3 == \"N\":\n",
    "            print(\"Sorry. I don't do that.\")\n",
    "        elif Question3 == \"Q\":\n",
    "            Question1 = \"Q\"\n",
    "    elif Question1 == \"C\":\n",
    "        Question4 = input('What is the radius? \"Q\" to quit')\n",
    "        while Question4 != \"Q\":\n",
    "            r = float(Question4)\n",
    "            p+=c_C(r)\n",
    "            print(\"Circumference: \"+str(p))\n",
    "            a+=a_C(r)\n",
    "            print(\"Area: \"+str(a))\n",
    "            Question4 = input('What is the radius? \"Q\" to quit')\n",
    "        if Question4 == \"Q\":\n",
    "            Question1 = \"Q\"\n",
    "    elif Question1 == \"R\":\n",
    "        Question5 = input('What is the base?')\n",
    "        Question6 = input('What is the height? \"Q\" to quit')\n",
    "        while Question6 != \"Q\":\n",
    "            if Question6 == \"Q\":\n",
    "                Question1 = \"Q\"\n",
    "            b = float(Question5)\n",
    "            s1 = float(Question5)\n",
    "            s3 = float(Question5)\n",
    "            h = float(Question6)\n",
    "            s2 = float(Question6)\n",
    "            s4 = float(Question6)\n",
    "            p+=p_SRTRAP(s1,s2,s3,s4)\n",
    "            print(\"Perimeter: \"+str(p))\n",
    "            a+=a_R(b,h)\n",
    "            print(\"Area: \"+str(a))\n",
    "            Question6 = input('What is the height? \"Q\" to quit')\n",
    "        if Question6 == \"Q\":\n",
    "            Question1 = \"Q\"\n",
    "    elif Question1 == \"E\":\n",
    "        Question7 = input('What is the length of a?')\n",
    "        Question8 = input('What is the length of b? \"Q\" to quit')\n",
    "        while Question8 != \"Q\":\n",
    "            if Question8 == \"Q\":\n",
    "                Question1 = \"Q\"\n",
    "            a1 = float(Question7)\n",
    "            b = float(Question8)\n",
    "            p+=c_E(a1, b)\n",
    "            print(\"Circumference: \"+str(p))\n",
    "            a+=a_E(a1,b)\n",
    "            print(\"Area: \"+str(a))\n",
    "            Question8 = input('What is the length of b? \"Q\" to quit')\n",
    "        if Question8 == \"Q\":\n",
    "            Question1 = \"Q\"\n",
    "    elif Question1 == \"TRAP\":\n",
    "        Question9 = input('What is the length of a1?')\n",
    "        Question10 = input('What is the length of b?')\n",
    "        Question11 = input('What is the length of another side? Not a1 or b? This side will be called s1.')\n",
    "        Question12 = input('What is the length of the final side? Not a1,b, or s1?')\n",
    "        Question13 = input('What is the length of h? \"Q\" to quit')\n",
    "        while Question13 != \"Q\":\n",
    "            if Question13 == \"Q\":\n",
    "                Question1 = \"Q\"\n",
    "            a1 = float(Question9)\n",
    "            s3 = a1\n",
    "            b = float(Question10)\n",
    "            s4 = b\n",
    "            s1 = float(Question11)\n",
    "            s2 = float(Question12)\n",
    "            h = float(Question13)\n",
    "            p+=p_SRTRAP(s1,s2,s3,s4)\n",
    "            print(\"Perimeter: \"+str(p))\n",
    "            a+=a_TRAP(a1,b,h)\n",
    "            print(\"Area: \"+str(a))\n",
    "            Question13 = input('What is the length of h? \"Q\" to quit')\n",
    "        if Question13 == \"Q\":\n",
    "            Question1 = \"Q\"\n",
    "    else:\n",
    "        print(\"That is not a valid option.\")\n",
    "if Question1 == \"Q\":\n",
    "    print(\"Done!\")"
   ]
  },
  {
   "cell_type": "markdown",
   "id": "f020746f-1e7a-4e58-a8d5-ae1b8d40f5aa",
   "metadata": {},
   "source": [
    "### Problem 2 – Horse Computations"
   ]
  },
  {
   "cell_type": "code",
   "execution_count": 1,
   "id": "7dfa885c-86c5-4d59-9ce6-98f04d796744",
   "metadata": {},
   "outputs": [
    {
     "name": "stdin",
     "output_type": "stream",
     "text": [
      "Would you like to convert hands or lengths? \"H\" for hands, \"L\" for lengths, or \"Q\" to quit. L\n",
      "How many lengths is the horse? \"Q\" to quit. 1.7\n"
     ]
    },
    {
     "name": "stdout",
     "output_type": "stream",
     "text": [
      "15.0\n"
     ]
    },
    {
     "name": "stdin",
     "output_type": "stream",
     "text": [
      "How many lengths is the horse? \"Q\" to quit. Q\n"
     ]
    },
    {
     "name": "stdout",
     "output_type": "stream",
     "text": [
      "Done!\n"
     ]
    }
   ],
   "source": [
    "def convert_hands(hands=5):\n",
    "    just_hands = int(hands)\n",
    "    inches = round((float(hands) - just_hands),2)*10\n",
    "    pure_hands_in_inches = (float(just_hands)*float(4))+inches\n",
    "    feet = round(float(pure_hands_in_inches/12),2)\n",
    "    return feet\n",
    "\n",
    "def convert_length(lengths=1):\n",
    "    just_lengths = int(lengths)\n",
    "    extra_feet = round((float(lengths) - just_lengths),2)*10\n",
    "    pure_lengths_in_feet = round(((float(just_lengths)*float(8))+extra_feet),2)\n",
    "    return pure_lengths_in_feet\n",
    "\n",
    "hands_or_lengths = input('Would you like to convert hands or lengths? \"H\" for hands, \"L\" for lengths, or \"Q\" to quit.')\n",
    "while hands_or_lengths != \"Q\":\n",
    "    if hands_or_lengths == \"H\":\n",
    "        hands = input('How many hands is the horse? \"Q\" to quit.')\n",
    "        while hands != \"Q\":\n",
    "            print(convert_hands(float(hands)))\n",
    "            hands = input('How many hands is the horse? \"Q\" to quit.')\n",
    "        if hands == \"Q\":\n",
    "            hands_or_lengths = \"Q\"\n",
    "    elif hands_or_lengths == \"L\":\n",
    "        lengths = float(input('How many lengths is the horse? \"Q\" to quit.'))\n",
    "        while lengths != \"Q\":\n",
    "            print(convert_length(lengths))\n",
    "            lengths = input('How many lengths is the horse? \"Q\" to quit.')\n",
    "        if lengths == \"Q\":\n",
    "            hands_or_lengths = \"Q\"\n",
    "if hands_or_lengths == \"Q\":\n",
    "    print(\"Done!\")"
   ]
  },
  {
   "cell_type": "markdown",
   "id": "301e26ad-92d4-47f5-97ba-9ce6e62a3f54",
   "metadata": {},
   "source": [
    "### Problem 3 – Mean Temperature"
   ]
  },
  {
   "cell_type": "code",
   "execution_count": 27,
   "id": "b3b92f8d-65fa-4d20-a383-ac5000b4ce89",
   "metadata": {},
   "outputs": [],
   "source": [
    "def meanTemp(daily_temps=[]):\n",
    "    temps = 0\n",
    "    for d in daily_temps:\n",
    "        temps += 1\n",
    "    mean = (float(sum(daily_temps))) / temps\n",
    "    print(\"The mean temperature for the past \" + str(temps) + \" days is \" + str(round(mean,2)) + \" degrees F.\")"
   ]
  },
  {
   "cell_type": "code",
   "execution_count": 33,
   "id": "85d741df-248f-4c5b-bd60-af2410c9195e",
   "metadata": {},
   "outputs": [
    {
     "name": "stdout",
     "output_type": "stream",
     "text": [
      "The mean temperature for the past 7 days is 88.0 degrees F.\n"
     ]
    }
   ],
   "source": [
    "meanTemp(daily_temps=[88, 88, 88, 88, 88, 88, 88])"
   ]
  }
 ],
 "metadata": {
  "kernelspec": {
   "display_name": "Python 3 (ipykernel)",
   "language": "python",
   "name": "python3"
  },
  "language_info": {
   "codemirror_mode": {
    "name": "ipython",
    "version": 3
   },
   "file_extension": ".py",
   "mimetype": "text/x-python",
   "name": "python",
   "nbconvert_exporter": "python",
   "pygments_lexer": "ipython3",
   "version": "3.11.7"
  }
 },
 "nbformat": 4,
 "nbformat_minor": 5
}
