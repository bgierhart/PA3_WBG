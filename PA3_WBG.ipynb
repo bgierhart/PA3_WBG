{
 "cells": [
  {
   "cell_type": "markdown",
   "id": "0462ad73-bf9c-4357-8fe7-b1131cd7d9d7",
   "metadata": {},
   "source": [
    "### PA3_WBG\n",
    "---\n",
    "**Author:** Ben Gierhart  \n",
    "**Version:** 1.0  \n",
    "**Semester:** Spring 2024 \n",
    "\n",
    "This *notebook* contains my solution(s) to **PA3_WBG**"
   ]
  },
  {
   "cell_type": "markdown",
   "id": "54d2efa6-d4cd-4ac8-bac8-54a2143bf9c5",
   "metadata": {},
   "source": [
    "### Problem 1 — Geometry Calculator"
   ]
  },
  {
   "cell_type": "code",
   "execution_count": 8,
   "id": "989c67a3-dac1-4455-b23b-caa79c982691",
   "metadata": {},
   "outputs": [],
   "source": [
    "import math\n",
    "\n",
    "def p_SRTRAP(s1, s2, s3, s4):\n",
    "    perimeter = float(s1 + s2 + s3 + s4)\n",
    "    return perimeter\n",
    "\n",
    "def p_TRI(s1, s2, s3):\n",
    "    perimeter = float(s1 + s2 + s3)\n",
    "    return perimeter\n",
    "\n",
    "def c_C(r):\n",
    "    circumference = float(2 * math.pi * r)\n",
    "    return circumference\n",
    "\n",
    "def c_E(a, b):\n",
    "    circumference = float(math.pi*((3*(a+b))-(((3*a)+b)*(a+(3*b)))**(1/2)))\n",
    "    return circumference\n",
    "\n",
    "def a_S(x):\n",
    "    area = float(x**2)\n",
    "    return area\n",
    "\n",
    "def a_TRI(b,h):\n",
    "    area = float((1/2)*b*h)\n",
    "    return area\n",
    "\n",
    "def a_C(r):\n",
    "    area = float(math.pi * (r**2))\n",
    "    return area\n",
    "\n",
    "def a_R(b,h):\n",
    "    area = float(b*h)\n",
    "    return area\n",
    "\n",
    "def a_E(a,b):\n",
    "    area = float(math.pi*a*b)\n",
    "    return area\n",
    "\n",
    "def a_TRAP(a,b,h):\n",
    "    area = float(((a+b)/2)*h)\n",
    "    return area"
   ]
  },
  {
   "cell_type": "markdown",
   "id": "f020746f-1e7a-4e58-a8d5-ae1b8d40f5aa",
   "metadata": {},
   "source": [
    "### Problem 2 – Horse Computations"
   ]
  },
  {
   "cell_type": "code",
   "execution_count": 1,
   "id": "7dfa885c-86c5-4d59-9ce6-98f04d796744",
   "metadata": {},
   "outputs": [
    {
     "name": "stdin",
     "output_type": "stream",
     "text": [
      "Would you like to convert hands or lengths? \"H\" for hands, \"L\" for lengths, or \"Q\" to quit. L\n",
      "How many lengths is the horse? \"Q\" to quit. 1.7\n"
     ]
    },
    {
     "name": "stdout",
     "output_type": "stream",
     "text": [
      "15.0\n"
     ]
    },
    {
     "name": "stdin",
     "output_type": "stream",
     "text": [
      "How many lengths is the horse? \"Q\" to quit. Q\n"
     ]
    },
    {
     "name": "stdout",
     "output_type": "stream",
     "text": [
      "Done!\n"
     ]
    }
   ],
   "source": [
    "def convert_hands(hands=5):\n",
    "    just_hands = int(hands)\n",
    "    inches = round((float(hands) - just_hands),2)*10\n",
    "    pure_hands_in_inches = (float(just_hands)*float(4))+inches\n",
    "    feet = round(float(pure_hands_in_inches/12),2)\n",
    "    return feet\n",
    "\n",
    "def convert_length(lengths=1):\n",
    "    just_lengths = int(lengths)\n",
    "    extra_feet = round((float(lengths) - just_lengths),2)*10\n",
    "    pure_lengths_in_feet = round(((float(just_lengths)*float(8))+extra_feet),2)\n",
    "    return pure_lengths_in_feet\n",
    "\n",
    "hands_or_lengths = input('Would you like to convert hands or lengths? \"H\" for hands, \"L\" for lengths, or \"Q\" to quit.')\n",
    "while hands_or_lengths != \"Q\":\n",
    "    if hands_or_lengths == \"H\":\n",
    "        hands = input('How many hands is the horse? \"Q\" to quit.')\n",
    "        while hands != \"Q\":\n",
    "            print(convert_hands(float(hands)))\n",
    "            hands = input('How many hands is the horse? \"Q\" to quit.')\n",
    "        if hands == \"Q\":\n",
    "            hands_or_lengths = \"Q\"\n",
    "    elif hands_or_lengths == \"L\":\n",
    "        lengths = float(input('How many lengths is the horse? \"Q\" to quit.'))\n",
    "        while lengths != \"Q\":\n",
    "            print(convert_length(lengths))\n",
    "            lengths = input('How many lengths is the horse? \"Q\" to quit.')\n",
    "        if lengths == \"Q\":\n",
    "            hands_or_lengths = \"Q\"\n",
    "if hands_or_lengths == \"Q\":\n",
    "    print(\"Done!\")"
   ]
  },
  {
   "cell_type": "markdown",
   "id": "301e26ad-92d4-47f5-97ba-9ce6e62a3f54",
   "metadata": {},
   "source": [
    "### Problem 3 – Mean Temperature"
   ]
  },
  {
   "cell_type": "code",
   "execution_count": 27,
   "id": "b3b92f8d-65fa-4d20-a383-ac5000b4ce89",
   "metadata": {},
   "outputs": [],
   "source": [
    "def meanTemp(daily_temps=[]):\n",
    "    temps = 0\n",
    "    for d in daily_temps:\n",
    "        temps += 1\n",
    "    mean = (float(sum(daily_temps))) / temps\n",
    "    print(\"The mean temperature for the past \" + str(temps) + \" days is \" + str(round(mean,2)) + \" degrees F.\")"
   ]
  },
  {
   "cell_type": "code",
   "execution_count": 33,
   "id": "85d741df-248f-4c5b-bd60-af2410c9195e",
   "metadata": {},
   "outputs": [
    {
     "name": "stdout",
     "output_type": "stream",
     "text": [
      "The mean temperature for the past 7 days is 88.0 degrees F.\n"
     ]
    }
   ],
   "source": [
    "meanTemp(daily_temps=[88, 88, 88, 88, 88, 88, 88])"
   ]
  }
 ],
 "metadata": {
  "kernelspec": {
   "display_name": "Python 3 (ipykernel)",
   "language": "python",
   "name": "python3"
  },
  "language_info": {
   "codemirror_mode": {
    "name": "ipython",
    "version": 3
   },
   "file_extension": ".py",
   "mimetype": "text/x-python",
   "name": "python",
   "nbconvert_exporter": "python",
   "pygments_lexer": "ipython3",
   "version": "3.11.7"
  }
 },
 "nbformat": 4,
 "nbformat_minor": 5
}
